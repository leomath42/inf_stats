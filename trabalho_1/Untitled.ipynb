{
 "cells": [
  {
   "cell_type": "markdown",
   "id": "beginning-growing",
   "metadata": {},
   "source": [
    "# 1 Estimativas de probabilidades"
   ]
  },
  {
   "cell_type": "code",
   "execution_count": 26,
   "id": "derived-advisory",
   "metadata": {
    "scrolled": false
   },
   "outputs": [],
   "source": [
    "import pandas as pd\n",
    "import matplotlib.pyplot as plt\n",
    "import numpy as np\n",
    "\n",
    "from IPython.display import display, Markdown\n",
    "import numpy as np\n",
    "\n",
    "def show(string):\n",
    "    return display(Markdown(string))\n",
    "\n",
    "def gen_table_markdown(size, ans):\n",
    "    q = list(range(1, size+1))\n",
    "\n",
    "    qs = \"\"\n",
    "   \n",
    "    for i in q:\n",
    "        qs = qs + ('| Q%i | %f %% |\\n' %(i, ans[i-1])) + '<br/>'\n",
    "    \n",
    "    return qs\n",
    "\n",
    "df = pd.read_csv('http://archive.ics.uci.edu/ml/machine-learning-databases/adult/adult.data')\n",
    "\n",
    "# tabela de dados\n",
    "df.columns=[\"age\",\"workclass\",\"finalweight\",\n",
    "            \"education\",\"education-num\",\"martial-status\",\n",
    "            \"occupation\",\"relationship\",\"race\",\n",
    "            \"sex\",\"capital-gain\",\"capital-loss\",\n",
    "            \"hours-per-week\",\"native-country\",\"income\"\n",
    "           ]"
   ]
  },
  {
   "cell_type": "markdown",
   "id": "treated-leeds",
   "metadata": {},
   "source": [
    "## box plot da variável Age"
   ]
  },
  {
   "cell_type": "code",
   "execution_count": null,
   "id": "convinced-rouge",
   "metadata": {},
   "outputs": [],
   "source": [
    "# boxplot dos dados da idade dos usuários.\n",
    "figure = plt.figure(figsize=(10,10))\n",
    "plt.boxplot(df['age'], vert=False, showmeans=True, manage_ticks=True)\n",
    "# adicionar subplot dps para ter uma linha vertial no boxplot para identificar melhor os valores\n",
    "# de quartils\n",
    "\n",
    "figure.show()"
   ]
  },
  {
   "cell_type": "markdown",
   "id": "adapted-creature",
   "metadata": {},
   "source": [
    "### (ii)\n",
    "\n",
    "Dado o gráfico(boxplot) e a tabela(gerada pelo código abaixo), conseguimos identificar que\n",
    "existem valores(pessoas) outliers por volta dos 78 anos.\n"
   ]
  },
  {
   "cell_type": "code",
   "execution_count": 24,
   "id": "consolidated-alloy",
   "metadata": {
    "scrolled": true
   },
   "outputs": [
    {
     "output_type": "display_data",
     "data": {
      "text/plain": "<IPython.core.display.Markdown object>",
      "text/markdown": "Os valores abaixo representam o Q1, Q2, Q3 (os quantils) e a média respectivamente"
     },
     "metadata": {}
    },
    {
     "output_type": "execute_result",
     "data": {
      "text/plain": [
       "     Q1    Q2    Q3      media\n",
       "0  28.0  37.0  48.0  38.581634"
      ],
      "text/html": "<div>\n<style scoped>\n    .dataframe tbody tr th:only-of-type {\n        vertical-align: middle;\n    }\n\n    .dataframe tbody tr th {\n        vertical-align: top;\n    }\n\n    .dataframe thead th {\n        text-align: right;\n    }\n</style>\n<table border=\"1\" class=\"dataframe\">\n  <thead>\n    <tr style=\"text-align: right;\">\n      <th></th>\n      <th>Q1</th>\n      <th>Q2</th>\n      <th>Q3</th>\n      <th>media</th>\n    </tr>\n  </thead>\n  <tbody>\n    <tr>\n      <th>0</th>\n      <td>28.0</td>\n      <td>37.0</td>\n      <td>48.0</td>\n      <td>38.581634</td>\n    </tr>\n  </tbody>\n</table>\n</div>"
     },
     "metadata": {},
     "execution_count": 24
    }
   ],
   "source": [
    "import numpy as np\n",
    "# quartils:\n",
    "data = [[\n",
    "    df['age'].quantile(0.25),\n",
    "    df['age'].quantile(0.5),\n",
    "    df['age'].quantile(0.75),\n",
    "    df['age'].mean()\n",
    "]]\n",
    "# data = np.array([1, 2])\n",
    "show(\"Os valores abaixo representam o Q1, Q2, Q3 (os quantils) e a média respectivamente\")\n",
    "pd.DataFrame(data, columns=[\"Q1\", \"Q2\", \"Q3\", \"media\"])"
   ]
  },
  {
   "source": [
    "### (iii)\n",
    "A tabela a baixo responde os itens seguintes itens:\n",
    "\n",
    "        Q1. Probabilidade de uma pessoa ter mais de 80 anos dado que a renda seja maior que 50k.\n",
    "        Q2. Probabilidade de uma pessoa ter mais de 80 anos e renda maior que 50k.\n",
    "        Q3. Probabilidade de uma pessoa ter ocupação no governo(Workclass = State-gov), \n",
    "            trabalhando como adm(Occupation = Adm-clerical) \n",
    "            e sendo homem(Sex=male)\n",
    "        Q4. Probabilidade de ter ocupação no Self-emp-inc, trabalhando como managerial e ser homem"
   ],
   "cell_type": "markdown",
   "metadata": {}
  },
  {
   "cell_type": "code",
   "execution_count": 60,
   "id": "compact-tissue",
   "metadata": {},
   "outputs": [
    {
     "output_type": "display_data",
     "data": {
      "text/plain": "<IPython.core.display.Markdown object>",
      "text/markdown": "|    |          |\n|:---|:---------|\n| Q1 | 0.1785 % |\n| Q2 | 0.043 %  |\n| Q3 | 0.2795 % |\n| Q4 | 1.0995 % |"
     },
     "metadata": {}
    }
   ],
   "source": [
    "\n",
    "# total de elementos do dataset.\n",
    "total = df\n",
    "\n",
    "def probabilidade(x, y, rd=4):\n",
    "    return round(len(x)/len(y) * 100, rd)\n",
    "\n",
    "''' Probabilidade de uma pessoa ter mais de 80 anos dado que a renda seja maior que 50k.'''\n",
    "\n",
    "boolean_salario_maior_que_50k = (df['income'].str.contains('>50K'))\n",
    "boolean_idade_maior_que_80 = (df['age'] > 80)\n",
    "\n",
    "# conjunto renda maior que 50k\n",
    "conj_salario_maior_que_50k = df[boolean_salario_maior_que_50k]\n",
    "\n",
    "p1 = probabilidade(conj_salario_maior_que_50k[boolean_idade_maior_que_80], conj_salario_maior_que_50k)\n",
    "\n",
    "\n",
    "# ''' Probabilidade de uma pessoa ter mais de 80 anos e renda maior que 50k.'''\n",
    "p2 = probabilidade(df[(boolean_idade_maior_que_80) & (boolean_salario_maior_que_50k)], total)\n",
    "\n",
    "''' Probabilidade de uma pessoa ter ocupação no governo(Workclass = State-gov), \n",
    "    trabalhando como adm(Occupation = Adm-clerical) \n",
    "    e sendo homem(Sex=male)'''\n",
    "\n",
    "p3 = probabilidade(df[(df[\"workclass\"].str.contains(\"State-gov\")) & \n",
    "        (df[\"occupation\"].str.contains(\"Adm-clerical\")) & \n",
    "        (df[\"sex\"].str.contains(\"Male\"))], total)\n",
    "\n",
    "''' Probabilidade de ter ocupação no Self-emp-inc, trabalhando como managerial e ser homem'''\n",
    "p4 = probabilidade(df[(df[\"workclass\"].str.contains(\"Self-emp-inc\")) &\n",
    "        (df[\"occupation\"].str.contains(\"Exec-managerial\")) &\n",
    "        (df[\"sex\"].str.contains(\"Male\"))], total)\n",
    "\n",
    "# print(p1,p2,p3,p4)\n",
    "#Probabilidade da pessoa ter ocupação no gover(State-gov)(Workclass = State-gov, Occupation = Adm-clerical, Sex =\n",
    "# Pr(W orkclass = State-gov, Occupation = Adm-clerical, Sex =\n",
    "# Male).\n",
    "\n",
    "show(pd.Series([str(i) +  \" %\" for i in [p1, p2, p3, p4]], index=[ 'Q'+str(i) for i in range(1,5)], name=\"\").to_markdown())"
   ]
  },
  {
   "cell_type": "code",
   "execution_count": 59,
   "metadata": {},
   "outputs": [
    {
     "output_type": "display_data",
     "data": {
      "text/plain": "<IPython.core.display.Markdown object>",
      "text/markdown": "| Q1 | 0.178500 % |\n<br/>| Q2 | 0.043000 % |\n<br/>| Q3 | 0.279500 % |\n<br/>| Q4 | 1.099500 % |\n<br/>"
     },
     "metadata": {}
    },
    {
     "output_type": "execute_result",
     "data": {
      "text/plain": [
       "'|    |          |\\n|:---|:---------|\\n| Q1 | 0.1785 % |\\n| Q2 | 0.043 %  |\\n| Q3 | 0.2795 % |\\n| Q4 | 1.0995 % |'"
      ]
     },
     "metadata": {},
     "execution_count": 59
    }
   ],
   "source": [
    "# # from IPython.display import display, Markdown\n",
    "# # display(Markdown('# some markdown $\\phi$'))\n",
    "# # display(Markdown(\" Probabilidade de uma pessoa ter ocupação no governo(Workclass = State-gov), \\\n",
    "# #     trabalhando como adm(Occupation = Adm-clerical) \\\n",
    "# #     e sendo homem(Sex=male) é {0}%\".format(p3)))\n",
    "# # # If you particularly want to display maths, this is more direct:\n",
    "# # display(Latex('\\phi'))\n",
    "# # display(Markdown('| $x_i$  | $p(x_i)$ |\\\n",
    "# #     | ------------- | ------------- |\\\n",
    "# #     | 1  | 1/2  |\\\n",
    "# #     | 2  | 1/10 |\\ '))\n",
    "# # display(pd.DataFrame(data, columns=[\"Q1\", \"Q2\", \"Q3\", \"media\"]))\n",
    "\n",
    "# show(gen_table_markdown(4, [p1, p2, p3, p4]))\n",
    "\n",
    "# pd.Series([str(i) +  \" %\" for i in [p1, p2, p3, p4]], index=[ 'Q'+str(i) for i in range(1,5)], name=\"\").to_markdown()\n"
   ]
  },
  {
   "source": [
    "# 2    Distribuição Normal"
   ],
   "cell_type": "markdown",
   "metadata": {}
  },
  {
   "cell_type": "code",
   "execution_count": 61,
   "id": "occupied-diagram",
   "metadata": {},
   "outputs": [],
   "source": [
    "amostra_10 = df.sample(n=10)\n",
    "amostra_1000 = df.sample(n=1000)\n",
    "\n",
    "print(amostra_10, amostra_1000)\n"
   ]
  },
  {
   "cell_type": "code",
   "execution_count": null,
   "metadata": {},
   "outputs": [],
   "source": []
  }
 ],
 "metadata": {
  "kernelspec": {
   "display_name": "Python 3",
   "language": "python",
   "name": "python3"
  },
  "language_info": {
   "codemirror_mode": {
    "name": "ipython",
    "version": 3
   },
   "file_extension": ".py",
   "mimetype": "text/x-python",
   "name": "python",
   "nbconvert_exporter": "python",
   "pygments_lexer": "ipython3",
   "version": "3.7.2"
  }
 },
 "nbformat": 4,
 "nbformat_minor": 5
}