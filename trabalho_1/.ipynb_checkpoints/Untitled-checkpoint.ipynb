{
 "cells": [
  {
   "cell_type": "markdown",
   "id": "beginning-growing",
   "metadata": {},
   "source": [
    "# 1 Estimativas de probabilidades"
   ]
  },
  {
   "cell_type": "code",
   "execution_count": null,
   "id": "derived-advisory",
   "metadata": {
    "scrolled": false
   },
   "outputs": [],
   "source": [
    "import pandas as pd\n",
    "import matplotlib.pyplot as plt\n",
    "import numpy as np\n",
    "\n",
    "from IPython.display import display, Markdown\n",
    "\n",
    "def show(string):\n",
    "    return display(Markdown(string))\n",
    "\n",
    "def gen_table_markdown(size, ans):\n",
    "    q = list(range(1, size+1))\n",
    "\n",
    "    qs = \"\"\n",
    "   \n",
    "    for i in q:\n",
    "        qs = qs + ('| Q%i | %f %% |\\n' %(i, ans[i-1])) + '<br/>'\n",
    "    \n",
    "    return qs\n",
    "\n",
    "df = pd.read_csv('http://archive.ics.uci.edu/ml/machine-learning-databases/adult/adult.data')\n",
    "\n",
    "# tabela de dados\n",
    "df.columns=[\"age\",\"workclass\",\"finalweight\",\n",
    "            \"education\",\"education-num\",\"martial-status\",\n",
    "            \"occupation\",\"relationship\",\"race\",\n",
    "            \"sex\",\"capital-gain\",\"capital-loss\",\n",
    "            \"hours-per-week\",\"native-country\",\"income\"\n",
    "           ]"
   ]
  },
  {
   "cell_type": "markdown",
   "id": "treated-leeds",
   "metadata": {},
   "source": [
    "## box plot da variável Age"
   ]
  },
  {
   "cell_type": "code",
   "execution_count": null,
   "id": "convinced-rouge",
   "metadata": {},
   "outputs": [],
   "source": [
    "# boxplot dos dados da idade dos usuários.\n",
    "figure = plt.figure(figsize=(10,10))\n",
    "plt.boxplot(df['age'], vert=False, showmeans=True, manage_ticks=True)\n",
    "# adicionar subplot dps para ter uma linha vertial no boxplot para identificar melhor os valores\n",
    "# de quartils\n",
    "\n",
    "figure.show()"
   ]
  },
  {
   "cell_type": "markdown",
   "id": "adapted-creature",
   "metadata": {},
   "source": [
    "### (ii)\n",
    "\n",
    "Dado o gráfico(boxplot) e a tabela(gerada pelo código abaixo), conseguimos identificar que\n",
    "existem valores(pessoas) outliers por volta dos 78 anos.\n"
   ]
  },
  {
   "cell_type": "code",
   "execution_count": null,
   "id": "consolidated-alloy",
   "metadata": {
    "scrolled": true
   },
   "outputs": [],
   "source": [
    "import numpy as np\n",
    "# quartils:\n",
    "data = [[\n",
    "    df['age'].quantile(0.25),\n",
    "    df['age'].quantile(0.5),\n",
    "    df['age'].quantile(0.75),\n",
    "    df['age'].mean()\n",
    "]]\n",
    "# data = np.array([1, 2])\n",
    "show(\"Os valores abaixo representam o Q1, Q2, Q3 (os quantils) e a média respectivamente\")\n",
    "pd.DataFrame(data, columns=[\"Q1\", \"Q2\", \"Q3\", \"media\"])"
   ]
  },
  {
   "cell_type": "markdown",
   "id": "loving-maker",
   "metadata": {},
   "source": [
    "### (iii)\n",
    "A tabela a baixo responde os itens seguintes itens:\n",
    "\n",
    "        Q1. Probabilidade de uma pessoa ter mais de 80 anos dado que a renda seja maior que 50k.\n",
    "        Q2. Probabilidade de uma pessoa ter mais de 80 anos e renda maior que 50k.\n",
    "        Q3. Probabilidade de uma pessoa ter ocupação no governo(Workclass = State-gov), \n",
    "            trabalhando como adm(Occupation = Adm-clerical) \n",
    "            e sendo homem(Sex=male)\n",
    "        Q4. Probabilidade de ter ocupação no Self-emp-inc, trabalhando como managerial e ser homem"
   ]
  },
  {
   "cell_type": "code",
   "execution_count": null,
   "id": "compact-tissue",
   "metadata": {},
   "outputs": [],
   "source": [
    "\n",
    "# total de elementos do dataset.\n",
    "total = df\n",
    "\n",
    "def probabilidade(x, y, rd=4):\n",
    "    return round(len(x)/len(y) * 100, rd)\n",
    "\n",
    "''' Probabilidade de uma pessoa ter mais de 80 anos dado que a renda seja maior que 50k.'''\n",
    "\n",
    "boolean_salario_maior_que_50k = (df['income'].str.contains('>50K'))\n",
    "boolean_idade_maior_que_80 = (df['age'] > 80)\n",
    "\n",
    "# conjunto renda maior que 50k\n",
    "conj_salario_maior_que_50k = df[boolean_salario_maior_que_50k]\n",
    "\n",
    "p1 = probabilidade(conj_salario_maior_que_50k[boolean_idade_maior_que_80], conj_salario_maior_que_50k)\n",
    "\n",
    "\n",
    "# ''' Probabilidade de uma pessoa ter mais de 80 anos e renda maior que 50k.'''\n",
    "p2 = probabilidade(df[(boolean_idade_maior_que_80) & (boolean_salario_maior_que_50k)], total)\n",
    "\n",
    "''' Probabilidade de uma pessoa ter ocupação no governo(Workclass = State-gov), \n",
    "    trabalhando como adm(Occupation = Adm-clerical) \n",
    "    e sendo homem(Sex=male)'''\n",
    "\n",
    "p3 = probabilidade(df[(df[\"workclass\"].str.contains(\"State-gov\")) & \n",
    "        (df[\"occupation\"].str.contains(\"Adm-clerical\")) & \n",
    "        (df[\"sex\"].str.contains(\"Male\"))], total)\n",
    "\n",
    "''' Probabilidade de ter ocupação no Self-emp-inc, trabalhando como managerial e ser homem'''\n",
    "p4 = probabilidade(df[(df[\"workclass\"].str.contains(\"Self-emp-inc\")) &\n",
    "        (df[\"occupation\"].str.contains(\"Exec-managerial\")) &\n",
    "        (df[\"sex\"].str.contains(\"Male\"))], total)\n",
    "\n",
    "# print(p1,p2,p3,p4)\n",
    "#Probabilidade da pessoa ter ocupação no gover(State-gov)(Workclass = State-gov, Occupation = Adm-clerical, Sex =\n",
    "# Pr(W orkclass = State-gov, Occupation = Adm-clerical, Sex =\n",
    "# Male).\n",
    "\n",
    "show(pd.Series([str(i) +  \" %\" for i in [p1, p2, p3, p4]], index=[ 'Q'+str(i) for i in range(1,5)], name=\"\").to_markdown())"
   ]
  },
  {
   "cell_type": "code",
   "execution_count": null,
   "id": "incorporate-orientation",
   "metadata": {},
   "outputs": [],
   "source": [
    "# # from IPython.display import display, Markdown\n",
    "# # display(Markdown('# some markdown $\\phi$'))\n",
    "# # display(Markdown(\" Probabilidade de uma pessoa ter ocupação no governo(Workclass = State-gov), \\\n",
    "# #     trabalhando como adm(Occupation = Adm-clerical) \\\n",
    "# #     e sendo homem(Sex=male) é {0}%\".format(p3)))\n",
    "# # # If you particularly want to display maths, this is more direct:\n",
    "# # display(Latex('\\phi'))\n",
    "# # display(Markdown('| $x_i$  | $p(x_i)$ |\\\n",
    "# #     | ------------- | ------------- |\\\n",
    "# #     | 1  | 1/2  |\\\n",
    "# #     | 2  | 1/10 |\\ '))\n",
    "# # display(pd.DataFrame(data, columns=[\"Q1\", \"Q2\", \"Q3\", \"media\"]))\n",
    "\n",
    "# show(gen_table_markdown(4, [p1, p2, p3, p4]))\n",
    "\n",
    "# pd.Series([str(i) +  \" %\" for i in [p1, p2, p3, p4]], index=[ 'Q'+str(i) for i in range(1,5)], name=\"\").to_markdown()\n"
   ]
  },
  {
   "cell_type": "markdown",
   "id": "written-receptor",
   "metadata": {},
   "source": [
    "# 2    Distribuição Normal"
   ]
  },
  {
   "cell_type": "markdown",
   "id": "willing-skirt",
   "metadata": {},
   "source": [
    "### A tendência é que quanto maior o número de amostras, a probabilidade é que o valor fique mais preciso e se apróxime do valor esperado.\n",
    "#### As Tabelas abaixo demostram o cálculo para a probabilidade das amostras de 10 e 10k(10000), para cada caso:\n",
    "    Q1. Pr(μ−σ ≤ x ≤ μ+σ) ≈ 0.683\n",
    "\n",
    "    Q2. Pr(μ−1.282σ ≤ x ≤μ+ 1.282σ) ≈ 0.8\n",
    "\n",
    "    Q3. Pr(μ−1.645σ ≤ x ≤ μ+ 1.645σ)≈ 0.9\n",
    "\n",
    "    Q4. Pr(μ−1.96σ ≤ x ≤ μ+ 1.96σ)≈ 0.95\n",
    "\n",
    "    Q5. Pr(μ−2σ ≤ x ≤ μ+ 2σ)≈ 0.954\n",
    "\n",
    "    Q6. Pr(μ−2.57σ ≤ x ≤ μ+ 2.57σ)≈ 0.99\n",
    "\n",
    "    Q7. Pr(μ−3σ ≤ x ≤ μ+ 3σ)≈ 0.997\n",
    "\n",
    "\n"
   ]
  },
  {
   "cell_type": "code",
   "execution_count": null,
   "id": "occupied-diagram",
   "metadata": {},
   "outputs": [],
   "source": [
    "from scipy.stats import norm\n",
    "\n",
    "def gen_sample(sample_size, **kwargs):\n",
    "    return [norm.rvs(**kwargs) for i in range(sample_size)]\n",
    "\n",
    "def probability_sample(sample,variance):\n",
    "    assert variance > 0\n",
    "    smp  = pd.DataFrame(sample, columns=[\"X\"])\n",
    "    \n",
    "    return len(smp[(-1*variance < smp[\"X\"]) & (smp[\"X\"] < variance)]) / len(sample)#sample_size\n",
    "    \n",
    "# smp_a_10[smp_a_10 < 1]\n",
    "\n",
    "\n",
    "sample_10 = gen_sample(10)\n",
    "sample_10k = gen_sample(10000)"
   ]
  },
  {
   "cell_type": "code",
   "execution_count": null,
   "id": "fresh-wagon",
   "metadata": {},
   "outputs": [],
   "source": []
  },
  {
   "cell_type": "markdown",
   "id": "cardiovascular-emission",
   "metadata": {},
   "source": [
    "#### Q1. Pr(μ−σ ≤ x ≤ μ+σ) ≈ 0.683\n",
    "\n",
    "Conseguimos perceber que a ***Pr converge para o valor de 0.683 quando a amostra se apróxima de 10k.***"
   ]
  },
  {
   "cell_type": "code",
   "execution_count": null,
   "id": "specified-blame",
   "metadata": {},
   "outputs": [],
   "source": [
    "variance = 1\n",
    "pd.DataFrame([[probability_sample(sample_10, variance), probability_sample(sample_10k, variance)]], columns=[\"10\", \"10K\"])"
   ]
  },
  {
   "cell_type": "markdown",
   "id": "clear-detroit",
   "metadata": {},
   "source": [
    "#### Q2. Pr(μ−1.282σ ≤ x ≤μ+ 1.282σ) ≈ 0.8\n",
    "\n",
    "A Tabela abaixo demostra o cáculo para a probabilidade das amostras de 10 e 10k(10000).\n",
    "Conseguimos perceber que a ***Pr converge para o valor de 0.8 quando a amostra se apróxima de 10k.***"
   ]
  },
  {
   "cell_type": "code",
   "execution_count": null,
   "id": "eastern-magnet",
   "metadata": {},
   "outputs": [],
   "source": [
    "variance = 1.282\n",
    "pd.DataFrame([[probability_sample(sample_10, variance), probability_sample(sample_10k, variance)]], columns=[\"10\", \"10K\"])"
   ]
  },
  {
   "cell_type": "markdown",
   "id": "minus-margin",
   "metadata": {},
   "source": [
    "#### Q3. Pr(μ−1.645σ ≤ x ≤ μ+ 1.645σ)≈ 0.9\n",
    "A Tabela abaixo demostra o cáculo para a probabilidade das amostras de 10 e 10k(10000).\n",
    "Conseguimos perceber que a ***Pr converge para o valor de 0.9 quando a amostra se apróxima de 10k.***"
   ]
  },
  {
   "cell_type": "code",
   "execution_count": null,
   "id": "unlikely-worry",
   "metadata": {},
   "outputs": [],
   "source": [
    "variance = 1.645\n",
    "pd.DataFrame([[probability_sample(sample_10, variance), probability_sample(sample_10k, variance)]], columns=[\"10\", \"10K\"])"
   ]
  },
  {
   "cell_type": "markdown",
   "id": "immune-mineral",
   "metadata": {},
   "source": [
    "#### Q4. Pr(μ−1.96σ ≤ x ≤ μ+ 1.96σ)≈ 0.95\n",
    "A Tabela abaixo demostra o cáculo para a probabilidade das amostras de 10 e 10k(10000).\n",
    "Conseguimos perceber que a ***Pr converge para o valor de 0.95 quando a amostra se apróxima de 10k.***"
   ]
  },
  {
   "cell_type": "code",
   "execution_count": null,
   "id": "conditional-surprise",
   "metadata": {},
   "outputs": [],
   "source": [
    "variance = 1.96\n",
    "pd.DataFrame([[probability_sample(sample_10, variance), probability_sample(sample_10k, variance)]], columns=[\"10\", \"10K\"])"
   ]
  },
  {
   "cell_type": "markdown",
   "id": "anonymous-cancer",
   "metadata": {},
   "source": [
    "#### Q5. Pr(μ−2σ ≤ x ≤ μ+ 2σ)≈ 0.954\n",
    "A Tabela abaixo demostra o cáculo para a probabilidade das amostras de 10 e 10k(10000).\n",
    "Conseguimos perceber que a ***Pr converge para o valor de 0.954 quando a amostra se apróxima de 10k.***\n"
   ]
  },
  {
   "cell_type": "code",
   "execution_count": null,
   "id": "intimate-exclusive",
   "metadata": {},
   "outputs": [],
   "source": [
    "variance = 2\n",
    "pd.DataFrame([[probability_sample(sample_10, variance), probability_sample(sample_10k, variance)]], columns=[\"10\", \"10K\"])"
   ]
  },
  {
   "cell_type": "markdown",
   "id": "photographic-poverty",
   "metadata": {},
   "source": [
    "#### Q6. Pr(μ−2.57σ ≤ x ≤ μ+ 2.57σ)≈ 0.99\n",
    "A Tabela abaixo demostra o cáculo para a probabilidade das amostras de 10 e 10k(10000).\n",
    "Conseguimos perceber que a ***Pr converge para o valor de 0.99 quando a amostra se apróxima de 10k.***"
   ]
  },
  {
   "cell_type": "code",
   "execution_count": null,
   "id": "heated-planet",
   "metadata": {},
   "outputs": [],
   "source": [
    "variance = 2.57\n",
    "pd.DataFrame([[probability_sample(sample_10, variance), probability_sample(sample_10k, variance)]], columns=[\"10\", \"10K\"])"
   ]
  },
  {
   "cell_type": "markdown",
   "id": "professional-phoenix",
   "metadata": {},
   "source": [
    "#### Q7. Pr(μ−3σ ≤ x ≤ μ+ 3σ)≈ 0.997\n",
    "A Tabela abaixo demostra o cáculo para a probabilidade das amostras de 10 e 10k(10000).\n",
    "Conseguimos perceber que a ***Pr converge para o valor de 0.997 quando a amostra se apróxima de 10k.***"
   ]
  },
  {
   "cell_type": "code",
   "execution_count": null,
   "id": "acoustic-glance",
   "metadata": {},
   "outputs": [],
   "source": [
    "variance = 3\n",
    "pd.DataFrame([[probability_sample(sample_10, variance), probability_sample(sample_10k, variance)]], columns=[\"10\", \"10K\"])"
   ]
  },
  {
   "cell_type": "markdown",
   "id": "featured-retro",
   "metadata": {},
   "source": [
    "# 3 Lei dos Grandes Numeros"
   ]
  },
  {
   "cell_type": "markdown",
   "id": "vulnerable-finding",
   "metadata": {},
   "source": [
    "Os gráficos abaixo demonstram o **experimento da moeda viciada**. \n",
    "    \n",
    "O primeiro gráfico mostra a proporção entre **Cara(0) e Coroa(1)**, que como esperado,\n",
    "a proporção é de aproximadamente 3 mil elementos quando o resultado é cara e de 7 mil elementos quando o resultado é Coroa.\n",
    "Já o segundo gráfico mostra a distribuição de 200 amostras(n=50). Podemos perceber que **os valores da média se concentram por volta de 0.7**, pois o valor Esperado é de **E[X] ≈ 0.7**\n",
    "\n",
    "Já o terceiro gráfico mostra a média acumulada do experimento, podemos perceber que quanto maior o número de elementos a média tende ao valor esperado de **E[X] ≈ 0.7**\n"
   ]
  },
  {
   "cell_type": "code",
   "execution_count": null,
   "id": "surgical-requirement",
   "metadata": {
    "scrolled": true
   },
   "outputs": [],
   "source": [
    "import random\n",
    "import pandas as pd\n",
    "from numpy import mean\n",
    "\n",
    "def biased_coin():\n",
    "    # 1 == coroa e 0 == cara\n",
    "    # Pr(X= 0) = 0.3\n",
    "    return  1 if random.random() > 0.3 else 0\n",
    "\n",
    "\n",
    "def expected_biased_coin(sample):\n",
    "    '''\n",
    "    calcula o valor experado da amostra aleatória do experimento da moeda viciada.\n",
    "    sample :- list\n",
    "    '''\n",
    "    expected = 0\n",
    "    for i, j in list(enumerate(sample)):\n",
    "         expected += j*1/len(sample)\n",
    "    \n",
    "    return expected\n",
    "\n",
    "\n",
    "# gera uma população(amostra gerada aleatóriamente) de tamanho n = 10k\n",
    "n = 10_000\n",
    "sample_size = 50\n",
    "population = [biased_coin() for i in range(n)]\n",
    "\n",
    "pop_set = pd.DataFrame(population, columns=['X'])\n",
    "\n",
    "expected_population = expected_biased_coin(population)\n",
    "\n",
    "expected_samples = []\n",
    "\n",
    "for i in range(n//sample_size):\n",
    "    smp = pop_set.sample(n=sample_size)\n",
    "    e = expected_biased_coin(smp['X'])\n",
    "    \n",
    "    expected_samples.append(e)\n",
    "    \n",
    "# print(expected_population)\n",
    "# print(expected_samples)\n",
    "\n",
    "# Gráfico 1 h = plt.hist(expected_samples) Pr(X= 0) = 0.3\n",
    "fig, ax = plt.subplots()\n",
    "ax.set_xlabel('X | X e {Cara(0), Coroa(1)}')\n",
    "ax.set_ylabel('Número de Elementos')\n",
    "ax.set_title('Experimento da moeda viciada, com n=10k')\n",
    "# ax.xaxis = {'minor':0, 'major':1}\n",
    "ax.hist(population)\n",
    "plt.show()\n",
    "\n",
    "\n",
    "# gráfico 2\n",
    "fig, ax = plt.subplots()\n",
    "ax.set_xlabel('Média das amostras')\n",
    "ax.set_ylabel('Número de Elementos')\n",
    "ax.set_title('Distribuição da média de 50 amostras(sem acumulo), com n=10k')\n",
    "ax.hist(expected_samples)\n",
    "plt.show()\n",
    "\n",
    "# gráfico 3\n",
    "# media_acumulada = np.transpose(pop_set.cumsum().to_numpy()) / np.array(range(1, 10_001))\n",
    "\n",
    "# gráfico 3\n",
    "fig, ax = plt.subplots(figsize=(15,10))\n",
    "ax.set_xlabel('Número de amostras')\n",
    "ax.set_ylabel('Média acumulada das amostras.')\n",
    "ax.set_title('Experimento da moeda viciada(média acumulada)')\n",
    "ax.plot(pop_set.cumsum() / pd.DataFrame(range(1, 10_001), columns=['X']))\n",
    "ax.axhline(y=expected_population, color='r', linestyle=':')\n",
    "ax.legend(['média acumulada', 'Valor esperado E[X]'])\n",
    "plt.show()"
   ]
  },
  {
   "cell_type": "markdown",
   "id": "specific-allowance",
   "metadata": {},
   "source": [
    "# 4    Teorema do Limite Central\n",
    "\n",
    "O TLC(Teorema do Limite Central) diz que, quanto maior o **n**(número do tamanho das amostras) a tendência é que a **distribuição da média das amostras*** siga a distribuição normal, a variância da mesma seja aproximadamente a variância da população divida pelo tamanho das amostras(**n**) e a média geral das amostras(média da distribuição amostral) será próximo da média da população.\n",
    "\n",
    "O gráfico e os valores da tabela do experimento abaixo demonstram isso:\n"
   ]
  },
  {
   "cell_type": "code",
   "execution_count": null,
   "id": "treated-skiing",
   "metadata": {
    "scrolled": true
   },
   "outputs": [],
   "source": [
    "from scipy.stats import expon\n",
    "import scipy.stats as stats\n",
    "# import seaborn as sns\n",
    "\n",
    "# scope variables\n",
    "n = 40\n",
    "_lambda = 0.2\n",
    "qtd_sample = 1000\n",
    "population_size = qtd_sample * n\n",
    "\n",
    "# population\n",
    "population = [expon.rvs(size=n, loc=1/_lambda , scale=1/_lambda) for i in range(population_size)]\n",
    "\n",
    "# samples ( conjunto com 1k de médias amostrais(amostras de n=40).)\n",
    "l_aux = []\n",
    "for i in population:\n",
    "    l_aux.append(np.mean(i))\n",
    "    #     np.concatenate((samples, np.mean(i)))\n",
    "samples = np.array(l_aux)\n",
    "\n",
    "dataseet = samples\n",
    "\n",
    "\n",
    "\n",
    "######## gráfico TLC ########\n",
    "fig, ax = plt.subplots(figsize=(15,10))\n",
    "ax.set_xlabel('Média.')\n",
    "ax.set_ylabel('Densidade.')\n",
    "ax.set_title('Teorema do Limite Central(TLC)')\n",
    "ax.hist(dataseet, edgecolor='black', bins=42, linewidth=1.2, density=True)\n",
    "\n",
    "\n",
    "# min e max do eixo x\n",
    "min_, max_ = plt.xlim()\n",
    "# ax.axvline(np.mean(dataseet), color='k', linestyle='dashed', linewidth=1)\n",
    "\n",
    "\n",
    "# \"tendência\" Kernel density estimation\n",
    "kde = stats.gaussian_kde(dataseet)\n",
    "kde_xs=np.linspace(min_, max_, 10000)\n",
    "plt.plot(kde_xs, kde.pdf(kde_xs))\n",
    "plt.show()\n",
    "\n",
    "\n",
    "population_mean = np.mean(population)\n",
    "population_var = np.var(population)\n",
    "\n",
    "\n",
    "sample_mean = np.mean(samples)\n",
    "sample_var = np.var(samples)\n",
    "\n",
    "# sns.distplot(dataseet, hist=True, kde=True,\n",
    "#              bins=16, color = 'c',\n",
    "#              hist_kws={'edgecolor':'black'},\n",
    "#              kde_kws={'linewidth': 4})\n",
    "# show(pd.Series([ ], index=[], name=\"\").to_markdown())\n",
    "\n",
    "show(\n",
    "    pd.DataFrame(\n",
    "        [[population_mean,population_var, '-' ], [sample_mean, sample_var, population_var/n]],\n",
    "        index=['population', 'sample'],\n",
    "        columns=['$$\\mu$$', '$$\\sigma^2$$', '$${\\sigma^2}/{n}$$']\n",
    "    ).to_markdown()\n",
    ")"
   ]
  },
  {
   "cell_type": "markdown",
   "id": "approximate-trail",
   "metadata": {},
   "source": [
    "# 5 Distribuições Amostrais"
   ]
  },
  {
   "cell_type": "code",
   "execution_count": 267,
   "id": "inclusive-politics",
   "metadata": {},
   "outputs": [],
   "source": [
    "import scipy.stats as stats\n",
    "import pandas as pd\n",
    "import matplotlib.pyplot as plt\n",
    "import numpy as np\n",
    "import random\n",
    "# from scipy.stats import norm\n",
    "# import seaborn as sns\n",
    "# import random\n",
    "# from scipy.stats import expon\n",
    "\n",
    "\n",
    "# um saco de batata pode conter de 10 a 20 batatas\n",
    "# gerando uma população de 800 sacos de batatas.\n",
    "# saco_batata = range(10, 21)\n",
    "# np.random.seed(0)\n",
    "population_size = 1000\n",
    "sacos = [np.random.randint(10, 21) for _ in range(population_size)]\n"
   ]
  },
  {
   "cell_type": "markdown",
   "id": "determined-smell",
   "metadata": {},
   "source": [
    "#### O codigo abaixo responde as **questões i) e ii)**, ele gera o gráfico e uma tabela com a média, variância e o desvio padrão da população de sacos de batatas\n"
   ]
  },
  {
   "cell_type": "code",
   "execution_count": 279,
   "id": "alternative-scholar",
   "metadata": {
    "scrolled": true
   },
   "outputs": [
    {
     "data": {
      "image/png": "[encoded data removed]",
      "text/plain": [
       "<Figure size 432x288 with 1 Axes>"
      ]
     },
     "metadata": {
      "needs_background": "light"
     },
     "output_type": "display_data"
    },
    {
     "data": {
      "text/markdown": [
       "|            |   $$\\mu$$ |   $$\\sigma^2$$ |   $${\\sigma}$$ |\n",
       "|:-----------|----------:|---------------:|---------------:|\n",
       "| population |    14.865 |        9.70277 |        3.11493 |"
      ],
      "text/plain": [
       "<IPython.core.display.Markdown object>"
      ]
     },
     "metadata": {},
     "output_type": "display_data"
    },
    {
     "name": "stdout",
     "output_type": "stream",
     "text": [
      "20\n",
      "10\n"
     ]
    }
   ],
   "source": [
    "# plota o gráfico(histograma) da população.\n",
    "fig, ax = plt.subplots()\n",
    "# ax.hist(sacos)\n",
    "ax.set_xlabel('N° de batas.')\n",
    "ax.set_ylabel('N° de sacos de batas.')\n",
    "ax.set_title('Gráfico da população')\n",
    "ax.hist(sacos, edgecolor='black', bins=10, linewidth=1.2, density=False)\n",
    "plt.show()\n",
    "\n",
    "# tabela com média, variância e o desvio padrão da população de batatas.\n",
    "mean=np.mean(sacos)\n",
    "variance=np.var(sacos)\n",
    "std_deviation = np.std(sacos)\n",
    "\n",
    "show(\n",
    "    pd.DataFrame(\n",
    "        [[mean,variance, std_deviation ]],\n",
    "        index=['population'],\n",
    "        columns=['$$\\mu$$', '$$\\sigma^2$$', '$${\\sigma}$$']\n",
    "    ).to_markdown()\n",
    ")\n"
   ]
  },
  {
   "cell_type": "markdown",
   "id": "eleven-pipeline",
   "metadata": {},
   "source": [
    "#### O codigo abaixo responde as **questões iii) e iv)**, ele gera o gráfico e uma tabela com a média, variância e o desvio padrão das amostras da população de sacos de batatas\n"
   ]
  },
  {
   "cell_type": "code",
   "execution_count": null,
   "id": "needed-joining",
   "metadata": {},
   "outputs": [],
   "source": [
    "sample_size = 2\n",
    "saco_pd = pd.DataFrame(sacos, columns=['X'])\n",
    "\n",
    "size = population_size*sample_size\n",
    "\n",
    "samples = [ saco_pd.sample(n=sample_size, replace = True)['X'] for _ in range(size)]\n",
    "sample_mean = [np.mean(sample) for sample in samples]\n",
    "\n",
    "sample_mean = np.array(sample_mean)\n",
    "\n",
    "# print(sample_mean)\n",
    "\n",
    "# plota o gráfico(histograma) da população.\n",
    "fig, ax = plt.subplots()\n",
    "# ax.hist(sacos)\n",
    "ax.set_xlabel('Médias.')\n",
    "ax.set_ylabel('Densidade.')\n",
    "ax.set_title('Distribuição amostral da média')\n",
    "\n",
    "ax.hist(sample_mean, density=True)\n",
    "plt.show()\n",
    "\n",
    "# tabela com média, variância e o desvio padrão da amostra.\n",
    "\n",
    "mean=np.mean(sample_mean)\n",
    "variance=np.var(sample_mean)\n",
    "std_deviation = np.std(sample_mean)\n",
    "\n",
    "show(\n",
    "    pd.DataFrame(\n",
    "        [[mean,variance, std_deviation ]],\n",
    "        index=['sample'],\n",
    "        columns=['$$\\mu$$', '$$\\sigma^2$$', '$${\\sigma}$$']\n",
    "    ).to_markdown()\n",
    ")\n"
   ]
  },
  {
   "cell_type": "markdown",
   "id": "confused-melbourne",
   "metadata": {},
   "source": [
    "#### v) O ***TLC(Teorema do Limite Central)*** diz que quanto maior o número n de amostras, a tendência é que **os valor de estatística da amostra se assemelhem ao da população**, podemos verificar isso com os resultados das tabelas ods itens **ii) e iv)**. A tabela abaixo mostra o comparativo :\n",
    "\n",
    "Podemos ver que os valores da amostra e da população se apróximam, além disso a variância da amostra se apróxima do valor da variância da população dividido pelo número de amostras n=2"
   ]
  },
  {
   "cell_type": "code",
   "execution_count": null,
   "id": "guided-dutch",
   "metadata": {},
   "outputs": [],
   "source": [
    "pop_mean=np.mean(sacos)\n",
    "pop_variance=np.var(sacos)\n",
    "pop_std_deviation = np.std(sacos)\n",
    "\n",
    "smp_mean=np.mean(sample_mean)\n",
    "smp_variance=np.var(sample_mean)\n",
    "smp_std_deviation = np.std(sample_mean)\n",
    "\n",
    "show(\n",
    "    pd.DataFrame(\n",
    "        [[pop_mean,pop_variance, pop_std_deviation ,'-' ], \n",
    "         [smp_mean, smp_variance, smp_std_deviation, pop_variance/2]],\n",
    "        index=['population', 'sample'],\n",
    "        columns=['$$\\mu$$', '$$\\sigma^2$$', '$${\\sigma}$$', '$${\\sigma^2}/{n}$$']\n",
    "    ).to_markdown()\n",
    ")\n"
   ]
  },
  {
   "cell_type": "markdown",
   "id": "expressed-creativity",
   "metadata": {},
   "source": [
    "#### vi) \n",
    "\n",
    "    Eu utilizaria a média da população, pois segundo o TLC(Teorema do Limite Central), os valores das estatísticas da amostra e da população tendêm a se apróximar quanto maior o número n de amostras.\n",
    "\n",
    "    Sim, acho que é um estimador, justamente por causa do TLC.\n",
    "\n",
    "    Os estimadores possuem a mesma eficácia, a diferença da precisão é o tamanho da amostra."
   ]
  },
  {
   "cell_type": "markdown",
   "id": "synthetic-prompt",
   "metadata": {},
   "source": [
    "#### vii) a amplitude da população é 10, ela pode ser encontrada com numpy, o código abaixo demonstra isso:"
   ]
  },
  {
   "cell_type": "code",
   "execution_count": null,
   "id": "ordinary-suspect",
   "metadata": {},
   "outputs": [],
   "source": [
    "show(\"Amplitude é {0}\".format(np.max(sacos) - np.min(sacos)))"
   ]
  },
  {
   "cell_type": "markdown",
   "id": "curious-climate",
   "metadata": {},
   "source": [
    "#### O código abaixo demonstra a questão viii)"
   ]
  },
  {
   "cell_type": "code",
   "execution_count": 277,
   "id": "entitled-hundred",
   "metadata": {},
   "outputs": [
    {
     "data": {
      "image/png": "[encoded data removed]",
      "text/plain": [
       "<Figure size 432x288 with 1 Axes>"
      ]
     },
     "metadata": {
      "needs_background": "light"
     },
     "output_type": "display_data"
    },
    {
     "data": {
      "text/markdown": [
       "|        |   $$\\mu$$ |   $$\\sigma^2$$ |   $${\\sigma}$$ |\n",
       "|:-------|----------:|---------------:|---------------:|\n",
       "| sample |     3.657 |        6.59535 |        2.56814 |"
      ],
      "text/plain": [
       "<IPython.core.display.Markdown object>"
      ]
     },
     "metadata": {},
     "output_type": "display_data"
    },
    {
     "name": "stdout",
     "output_type": "stream",
     "text": [
      "10\n"
     ]
    }
   ],
   "source": [
    "sample_size = 2\n",
    "saco_pd = pd.DataFrame(sacos, columns=['X'])\n",
    "\n",
    "size = population_size*sample_size\n",
    "\n",
    "samples = [ saco_pd.sample(n=sample_size, replace = True)['X'] for _ in range(size)]\n",
    "sample_mean = [np.max(sample)-np.min(sample) for sample in samples]\n",
    "\n",
    "sample_mean = np.array(sample_mean)\n",
    "\n",
    "# print(sample_mean)\n",
    "\n",
    "# plota o gráfico(histograma) da população.\n",
    "fig, ax = plt.subplots()\n",
    "# ax.hist(sacos)\n",
    "ax.set_xlabel('Amplitude.')\n",
    "ax.set_ylabel('Densidade.')\n",
    "ax.set_title('Distribuição amostral da média')\n",
    "\n",
    "ax.hist(sample_mean, density=True)\n",
    "plt.show()\n",
    "\n",
    "# tabela com média, variância e o desvio padrão da amostra.\n",
    "\n",
    "mean=np.mean(sample_mean)\n",
    "variance=np.var(sample_mean)\n",
    "std_deviation = np.std(sample_mean)\n",
    "\n",
    "show(\n",
    "    pd.DataFrame(\n",
    "        [[mean,variance, std_deviation ]],\n",
    "        index=['sample'],\n",
    "        columns=['$$\\mu$$', '$$\\sigma^2$$', '$${\\sigma}$$']\n",
    "    ).to_markdown()\n",
    ")\n"
   ]
  },
  {
   "cell_type": "markdown",
   "id": "alternative-event",
   "metadata": {},
   "source": [
    "\n",
    "#### ix) De acordo com a questão viii), podemos perceber que os válores da média e da variância estão muito distântes dos valores da estatística da população, logo a amplitude amostral não é um bom estimador.\n",
    "\n",
    "#### Uma boa abordagem é seguir a ***TLC, assim poderiamos utilizar a regra impírica***, pois a regra impírica diz que a largura da distribuição normal é de $6\\sigma$ e isso representa cerca de 99,73% dos valores da distribuição. \n"
   ]
  },
  {
   "cell_type": "code",
   "execution_count": null,
   "id": "solar-porter",
   "metadata": {},
   "outputs": [],
   "source": [
    "# import scipy.stats as st\n",
    "\n",
    "# plt.hist(x, density=True, bins=82, label=\"Data\")\n",
    "# mn, mx = plt.xlim()\n",
    "# plt.xlim(mn, mx)\n",
    "# kde_xs = np.linspace(mn, mx, 300)\n",
    "# kde = st.gaussian_kde(x)\n",
    "# plt.plot(kde_xs, kde.pdf(kde_xs), label=\"PDF\")\n",
    "# plt.legend(loc=\"upper left\")\n",
    "# plt.ylabel('Probability')\n",
    "# plt.xlabel('Data')\n",
    "# plt.title(\"Histogram\");\n",
    "\n",
    "# p = pd.DataFrame(dataseet)\n",
    "# fig, ax = plt.subplots(figsize = (6,4))\n",
    "\n",
    "# p.plot(kind = \"hist\", density = True, bins = 15)\n",
    "# p.plot(kind = \"kde\")\n",
    "# ax.set_title(\"Avocado Prices in U.S. Markets\")\n",
    "# plt.show()\n",
    "\n",
    "\n",
    "# fig, ax = plt.subplots(figsize=(15,10))\n",
    "# ax.plot(kind = \"hist\", density = True, bins = 15)\n",
    "# ax.plot(kind = \"kde\")#plot(expon.rvs(size=40, loc=1/_lambda , scale=1/_lambda))  \n",
    "\n",
    "\n",
    "# y,binEdges=np.histogram(dataseet,bins=100)\n",
    "# bincenters = 0.5*(binEdges[1:]+binEdges[:-1])\n",
    "\n",
    "# ax.hist(bincenters, edgecolor='black', linewidth=1.2)\n",
    "# noise = dataseet\n",
    "# density = stats.gaussian_kde(noise)\n",
    "# n, x, _ = ax.hist(dataseet, edgecolor='black', linewidth=1.2, bins=np.linspace(-3, 3, 50), \n",
    "#                    histtype=u'step')  \n",
    "# plt.plot(x, density(x))\n",
    "\n",
    "# plt.plot(dataseet, expon.pdf(dataseet), lw=2)\n",
    "# plt.show()\n",
    "# print(dataseet)"
   ]
  }
 ],
 "metadata": {
  "kernelspec": {
   "display_name": "Python 3",
   "language": "python",
   "name": "python3"
  },
  "language_info": {
   "codemirror_mode": {
    "name": "ipython",
    "version": 3
   },
   "file_extension": ".py",
   "mimetype": "text/x-python",
   "name": "python",
   "nbconvert_exporter": "python",
   "pygments_lexer": "ipython3",
   "version": "3.7.2"
  }
 },
 "nbformat": 4,
 "nbformat_minor": 5
}
